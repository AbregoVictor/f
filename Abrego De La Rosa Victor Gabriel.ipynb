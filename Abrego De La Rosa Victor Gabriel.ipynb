{
 "cells": [
  {
   "cell_type": "code",
   "execution_count": 2,
   "metadata": {},
   "outputs": [
    {
     "name": "stdout",
     "output_type": "stream",
     "text": [
      "Frase que se invertira: 12345678\n",
      "87654321"
     ]
    }
   ],
   "source": [
    "#Programa 1\n",
    "string= input(\"Frase que se invertira: \") #se elige la frase a invertir\n",
    "l=len(string) #se mide el string \n",
    "for i in range (l-1,-1,-1): #Calcula cada dato desde el final de el string mientras decrece 1\n",
    "    print(string[i], end=\"\") #Muestra cada dato invertido"
   ]
  },
  {
   "cell_type": "code",
   "execution_count": null,
   "metadata": {},
   "outputs": [],
   "source": []
  },
  {
   "cell_type": "code",
   "execution_count": null,
   "metadata": {},
   "outputs": [],
   "source": []
  }
 ],
 "metadata": {
  "kernelspec": {
   "display_name": "Python 3",
   "language": "python",
   "name": "python3"
  },
  "language_info": {
   "codemirror_mode": {
    "name": "ipython",
    "version": 3
   },
   "file_extension": ".py",
   "mimetype": "text/x-python",
   "name": "python",
   "nbconvert_exporter": "python",
   "pygments_lexer": "ipython3",
   "version": "3.8.3"
  }
 },
 "nbformat": 4,
 "nbformat_minor": 4
}
